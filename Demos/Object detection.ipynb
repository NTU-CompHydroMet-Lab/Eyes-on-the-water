{
 "cells": [
  {
   "cell_type": "code",
   "execution_count": 2,
   "metadata": {},
   "outputs": [],
   "source": [
    "from ultralytics import YOLO\n",
    "\n",
    "from glob import glob\n",
    "\n",
    "import matplotlib.pyplot as plt\n",
    "\n",
    "# import cv2"
   ]
  },
  {
   "cell_type": "markdown",
   "metadata": {},
   "source": [
    "# Load YOLO model (https://github.com/ultralytics/ultralytics)"
   ]
  },
  {
   "cell_type": "code",
   "execution_count": 5,
   "metadata": {},
   "outputs": [],
   "source": [
    "model = YOLO(\"../EOTW_models/YOLOv8_det_model.pt\")"
   ]
  },
  {
   "cell_type": "code",
   "execution_count": 6,
   "metadata": {},
   "outputs": [],
   "source": [
    "# You can change the image_folder to the folder where you have the images\n",
    "image_folder = \"../EOTW_data/labelled/Image Classification/Development_Dataset/Development_Dataset_Images\"\n",
    "demo_imgs = sorted(glob(image_folder + \"/*\"))"
   ]
  },
  {
   "cell_type": "code",
   "execution_count": 16,
   "metadata": {},
   "outputs": [
    {
     "name": "stdout",
     "output_type": "stream",
     "text": [
      "\n",
      "0: 480x640 4 Channel_Modifications, 1 Obstruction, 2 Outfalls, 1 Sewage_Litter, 5.7ms\n",
      "Speed: 25.1ms preprocess, 5.7ms inference, 0.7ms postprocess per image at shape (1, 3, 480, 640)\n",
      "Results saved to \u001b[1mruns/detect/predict\u001b[0m\n",
      "GBR201600000000001.JPG - Predicted labels: [0, 1, 0, 1, 1, 0, 0, 0, 1, 0]\n"
     ]
    }
   ],
   "source": [
    "for image in demo_imgs:\n",
    "    # image = cv2.imread(image)\n",
    "    imagename_withoutextension = image.split('/')[-1]\n",
    "    results = model.predict([image],conf=0.4, iou=0.45, save = True, save_dir = \"./results\")\n",
    "    \n",
    "    for result in results:\n",
    "        # boxes = result.boxes  # Boxes object for bounding box outputs\n",
    "        # keypoints = result.keypoints  # Keypoints object for pose outputs\n",
    "        # probs = result.probs  # Probs object for classification outputs\n",
    "        # print(result.names)\n",
    "        # print(f\"{imagename_withoutextension} - Predicted labels: {list(result.boxes.cls.cpu().numpy())}\")\n",
    "        \n",
    "        unique_label = list(set(result.boxes.cls.cpu().numpy().astype(int)))\n",
    "        # print(unique_label)\n",
    "        \n",
    "        label = [0 for _ in range(10)]\n",
    "        for i in unique_label:  \n",
    "            label[i] = 1\n",
    "        print(f\"{imagename_withoutextension} - Predicted labels: {label}\")\n",
    "        \n",
    "    break"
   ]
  },
  {
   "cell_type": "code",
   "execution_count": null,
   "metadata": {},
   "outputs": [],
   "source": []
  }
 ],
 "metadata": {
  "kernelspec": {
   "display_name": "EOTW",
   "language": "python",
   "name": "python3"
  },
  "language_info": {
   "codemirror_mode": {
    "name": "ipython",
    "version": 3
   },
   "file_extension": ".py",
   "mimetype": "text/x-python",
   "name": "python",
   "nbconvert_exporter": "python",
   "pygments_lexer": "ipython3",
   "version": "3.9.18"
  }
 },
 "nbformat": 4,
 "nbformat_minor": 2
}
